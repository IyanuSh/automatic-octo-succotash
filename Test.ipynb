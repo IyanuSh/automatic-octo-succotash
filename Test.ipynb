{
 "cells": [
  {
   "cell_type": "code",
   "execution_count": 8,
   "metadata": {},
   "outputs": [],
   "source": [
    "%run JEMHEphemeraDoc.ipynb\n",
    "%run JEMHEphemeraFrame.ipynb\n",
    "%run JEMHBenYehudaDoc.ipynb\n",
    "%run JEMHBenYehudaFrame.ipynb"
   ]
  },
  {
   "cell_type": "code",
   "execution_count": 9,
   "metadata": {},
   "outputs": [],
   "source": [
    "TESTDIR_EPHEMERA = 'JEMHCorpus/ephemera/street_ads/TEI'\n",
    "\n",
    "testCorpus_Ephemera = JEMHEphemeraFrame(TESTDIR_EPHEMERA)"
   ]
  },
  {
   "cell_type": "code",
   "execution_count": 12,
   "metadata": {},
   "outputs": [
    {
     "name": "stdout",
     "output_type": "stream",
     "text": [
      "File Name        Year  Place\n",
      "-------------  ------  -------\n",
      "700174335.xml    1921  חיפה\n"
     ]
    }
   ],
   "source": [
    "testCorpus_Ephemera_1921 = testCorpus_Ephemera.filterYear(1921)\n",
    "print(testCorpus_Ephemera_1921)"
   ]
  },
  {
   "cell_type": "code",
   "execution_count": null,
   "metadata": {},
   "outputs": [],
   "source": []
  }
 ],
 "metadata": {
  "kernelspec": {
   "display_name": "Python 3",
   "language": "python",
   "name": "python3"
  },
  "language_info": {
   "codemirror_mode": {
    "name": "ipython",
    "version": 3
   },
   "file_extension": ".py",
   "mimetype": "text/x-python",
   "name": "python",
   "nbconvert_exporter": "python",
   "pygments_lexer": "ipython3",
   "version": "3.8.5"
  }
 },
 "nbformat": 4,
 "nbformat_minor": 4
}
