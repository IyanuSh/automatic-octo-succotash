{
 "cells": [
  {
   "cell_type": "code",
   "execution_count": 1,
   "metadata": {},
   "outputs": [],
   "source": [
    "%run JEMHEphemeraDoc.ipynb\n",
    "\n",
    "class JEMHEphemeraFrame:\n",
    "\n",
    "    def __init__(self, fileDir):\n",
    "        if type(fileDir) == str:\n",
    "            self.docs = [JEMHEphemeraDoc(file, fileDir) for file in os.listdir(fileDir) if file.endswith('.xml')]\n",
    "        elif type(fileDir) == list:\n",
    "            self.docs = [file for file in fileDir]\n",
    "        else:\n",
    "            self.docs = []\n",
    "\n",
    "    def __str__(self):\n",
    "        header = ['File Name', 'Year', 'Place']\n",
    "        return tabulate([doc.getMetadata() for doc in self.docs], header)\n",
    "\n",
    "    def __iter__(self):\n",
    "        return [doc for doc in self.docs]\n",
    "\n",
    "    def getDocs(self):\n",
    "        return self.docs\n",
    "\n",
    "    def filterYear(self, year):\n",
    "        return JEMHFrame([doc for doc in self.docs if doc.getYear() == year])\n",
    "\n",
    "    def filterBetweenYears(self, startYear, endYear):\n",
    "        return JEMHEphemeraFrame([doc for doc in self.docs if doc.getYear() in range(startYear, endYear)])\n",
    "\n",
    "    def filterBeforeYear(self, endYear):\n",
    "        return JEMHEphemeraFrame([doc for doc in self.docs if doc.getYear() < endYear])\n",
    "\n",
    "    def filterAfterYear(self, startYear):\n",
    "        return JEMHEphemeraFrame([doc for doc in self.docs if doc.getYear() >= startYear])\n"
   ]
  }
 ],
 "metadata": {
  "kernelspec": {
   "display_name": "Python 3",
   "language": "python",
   "name": "python3"
  },
  "language_info": {
   "codemirror_mode": {
    "name": "ipython",
    "version": 3
   },
   "file_extension": ".py",
   "mimetype": "text/x-python",
   "name": "python",
   "nbconvert_exporter": "python",
   "pygments_lexer": "ipython3",
   "version": "3.8.5"
  }
 },
 "nbformat": 4,
 "nbformat_minor": 4
}
