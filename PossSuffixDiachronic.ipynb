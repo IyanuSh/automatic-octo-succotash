{
 "cells": [
  {
   "cell_type": "markdown",
   "metadata": {},
   "source": [
    "## Abstract\n",
    "\n",
    "This experiment is a very simple analysis of the usage of possessive suffixes vs analytic possessive particles over time. The ephemera and BYP subcorpora will be analyzed separately."
   ]
  },
  {
   "cell_type": "markdown",
   "metadata": {},
   "source": [
    "## Code!"
   ]
  },
  {
   "cell_type": "markdown",
   "metadata": {},
   "source": [
    "#### Dependencies:"
   ]
  },
  {
   "cell_type": "code",
   "execution_count": 25,
   "metadata": {},
   "outputs": [],
   "source": [
    "%run LoadFrames.ipynb\n",
    "import pandas as pd\n",
    "import matplotlib.pyplot as plt"
   ]
  },
  {
   "cell_type": "markdown",
   "metadata": {},
   "source": [
    "#### Load Base Subcorpora Frames:"
   ]
  },
  {
   "cell_type": "code",
   "execution_count": 3,
   "metadata": {},
   "outputs": [],
   "source": [
    "EPHEMERADIR = 'JEMHCorpus/ephemera/street_ads/TEI'\n",
    "BYPDIR = 'JEMHCorpus/projectbenyehuda/TEI/by-decades-accurate'\n",
    "\n",
    "ephemera_raw = JEMHEphemeraFrame(EPHEMERADIR)\n",
    "ephemera_raw_docs = ephemera_raw.getDocs()\n",
    "byp_raw = JEMHBenYehudaFrame(BYPDIR)"
   ]
  },
  {
   "cell_type": "code",
   "execution_count": 4,
   "metadata": {},
   "outputs": [],
   "source": [
    "def findWord(docs, substr):\n",
    "    posDocs = []\n",
    "    wordCount = 0\n",
    "    \n",
    "    for doc in docs:\n",
    "        tempText = doc.getText()\n",
    "        for text in tempText:\n",
    "            if substr in text:\n",
    "                posDocs.append(doc)\n",
    "                wordCount += text.count(substr)\n",
    "                break\n",
    "            else:\n",
    "                continue\n",
    "        \n",
    "    return wordCount"
   ]
  },
  {
   "cell_type": "code",
   "execution_count": 9,
   "metadata": {},
   "outputs": [],
   "source": [
    "possParts = ['שלי', 'שלך', 'שלו', 'שלנו', 'שלכם', 'שלכן', 'שלהם', 'שלהן']\n",
    "pronouns = ['אני', 'אנוכי', 'אנו', 'אנחנו']\n",
    "\n",
    "container = [(i, findWord(ephemera_raw_docs, i)) for i in possParts]"
   ]
  },
  {
   "cell_type": "code",
   "execution_count": 7,
   "metadata": {},
   "outputs": [],
   "source": [
    "dateRanges = [(1700, 1709), (1710, 1719), (1720, 1729), (1730, 1739), (1740, 1749),\n",
    "              (1750, 1759), (1760, 1769), (1770, 1779), (1780, 1789), (1790, 1799),\n",
    "              (1800, 1809), (1810, 1819), (1820, 1829), (1830, 1839), (1840, 1849),\n",
    "              (1850, 1859), (1860, 1869), (1870, 1879), (1880, 1889), (1890, 1899),\n",
    "              (1900, 1909), (1910, 1919), (1920, 1929), (1930, 1939), (1940, 1949),\n",
    "              (1950, 1959), (1960, 1969), (1970, 1979), (1980, 1989), (1990, 1999),\n",
    "              (2000, 2009), (2010, 2019), (2020, 2029)]\n",
    "\n",
    "ephemera_raw_docs_by_decade = [ephemera_raw.filterBetweenYears(start, end + 1) for (start, end) in dateRanges if\n",
    "                              bool(ephemera_raw.filterBetweenYears(start, end + 1).getDocs())]\n",
    "byp_raw_docs_by_decade = [byp_raw.filterBetweenYears(start, end + 1) for (start, end) in dateRanges if\n",
    "                              bool(byp_raw.filterBetweenYears(start, end + 1).getDocs())]"
   ]
  },
  {
   "cell_type": "code",
   "execution_count": 37,
   "metadata": {},
   "outputs": [
    {
     "name": "stdout",
     "output_type": "stream",
     "text": [
      "Range             אני      אנוכי       אנו      אנחנו\n",
      "-----------  --------  ---------  --------  ---------\n",
      "1850 - 1859  0.442308  0.0192308  0.201923  0.0480769\n",
      "1861 - 1869  0.481481  0.037037   0.555556  0.333333\n",
      "1870 - 1879  0.673684  0.0105263  0.4       0.315789\n",
      "1880 - 1889  0.627907  0.0523256  0.639535  0.47093\n",
      "1890 - 1899  0.85567   0.0756014  0.762887  0.649485\n",
      "1900 - 1909  0.939623  0.101887   0.796226  0.543396\n",
      "1910 - 1919  0.857418  0.0462428  0.94605   0.44316\n",
      "1920 - 1929  0.589984  0.0719875  0.594679  0.267606\n",
      "1930 - 1939  0.652174  0.0271739  0.682065  0.279891\n",
      "1940 - 1949  0.875     0.125      0.8125    0.5\n"
     ]
    }
   ],
   "source": [
    "pronounFrequencies = []\n",
    "\n",
    "for decade in byp_raw_docs_by_decade:\n",
    "    numDocs = len(decade.getDocs())\n",
    "    pros = [findWord(decade.getDocs(), p) for p in pronouns]\n",
    "    earliestYear = decade.earliestDoc().getYear()\n",
    "    latestYear = decade.latestDoc().getYear()\n",
    "    tup = (str(earliestYear) + \" - \" + str(latestYear), pros[0]/numDocs, pros[1]/numDocs, pros[2]/numDocs, pros[3]/numDocs)\n",
    "    if all(tup):\n",
    "        pronounFrequencies.append(tup)\n",
    "    \n",
    "headers = ['Range'] + pronouns\n",
    "print(tabulate(pronounFrequencies, headers=headers))"
   ]
  },
  {
   "cell_type": "code",
   "execution_count": 38,
   "metadata": {},
   "outputs": [
    {
     "name": "stdout",
     "output_type": "stream",
     "text": [
      "         Range       אני     אנוכי       אנו     אנחנו\n",
      "0  1850 - 1859  0.442308  0.019231  0.201923  0.048077\n",
      "1  1861 - 1869  0.481481  0.037037  0.555556  0.333333\n",
      "2  1870 - 1879  0.673684  0.010526  0.400000  0.315789\n",
      "3  1880 - 1889  0.627907  0.052326  0.639535  0.470930\n",
      "4  1890 - 1899  0.855670  0.075601  0.762887  0.649485\n",
      "5  1900 - 1909  0.939623  0.101887  0.796226  0.543396\n",
      "6  1910 - 1919  0.857418  0.046243  0.946050  0.443160\n",
      "7  1920 - 1929  0.589984  0.071987  0.594679  0.267606\n",
      "8  1930 - 1939  0.652174  0.027174  0.682065  0.279891\n",
      "9  1940 - 1949  0.875000  0.125000  0.812500  0.500000\n"
     ]
    }
   ],
   "source": [
    "pronounFreqs_df = pd.DataFrame(pronounFrequencies, columns=headers)\n",
    "print(pronounFreqs_df)"
   ]
  },
  {
   "cell_type": "code",
   "execution_count": 39,
   "metadata": {},
   "outputs": [
    {
     "data": {
      "image/png": "[encoded data removed]",
      "text/plain": [
       "<Figure size 432x288 with 1 Axes>"
      ]
     },
     "metadata": {
      "needs_background": "light"
     },
     "output_type": "display_data"
    }
   ],
   "source": [
    "plt.plot(pronounFreqs_df['אני'])\n",
    "plt.plot(pronounFreqs_df['אנוכי'])\n",
    "plt.show()"
   ]
  },
  {
   "cell_type": "code",
   "execution_count": 40,
   "metadata": {},
   "outputs": [
    {
     "data": {
      "image/png": "[encoded data removed]",
      "text/plain": [
       "<Figure size 432x288 with 1 Axes>"
      ]
     },
     "metadata": {
      "needs_background": "light"
     },
     "output_type": "display_data"
    }
   ],
   "source": [
    "plt.plot(pronounFreqs_df['אנחנו'])\n",
    "plt.plot(pronounFreqs_df['אנו'])\n",
    "plt.show()"
   ]
  },
  {
   "cell_type": "code",
   "execution_count": 49,
   "metadata": {},
   "outputs": [],
   "source": [
    "possFreqs = []\n",
    "\n",
    "for decade in byp_raw_docs_by_decade:\n",
    "    numDocs = len(decade.getDocs())\n",
    "    pros = [findWord(decade.getDocs(), p) for p in possParts]\n",
    "    earliestYear = decade.earliestDoc().getYear()\n",
    "    latestYear = decade.latestDoc().getYear()\n",
    "    yearRange = str(earliestYear) + \" - \" + str(latestYear)\n",
    "    pros_normed = [pro/numDocs for pro in pros]\n",
    "    tup = (yearRange, pros_normed[0], pros_normed[1], pros_normed[2], pros_normed[3], pros_normed[4],\n",
    "          pros_normed[5], pros_normed[6], pros_normed[7], sum(pros)/numDocs)\n",
    "    possFreqs.append(tup)"
   ]
  },
  {
   "cell_type": "code",
   "execution_count": 50,
   "metadata": {},
   "outputs": [
    {
     "name": "stdout",
     "output_type": "stream",
     "text": [
      "          Range       שלי       שלך       שלו      שלנו      שלכם      שלכן  \\\n",
      "0   1723 - 1728  0.900000  0.000000  0.500000  0.000000  0.000000  0.000000   \n",
      "1   1740 - 1743  1.000000  1.000000  1.000000  0.500000  0.000000  0.000000   \n",
      "2   1822 - 1828  0.666667  0.000000  0.333333  0.000000  0.000000  0.000000   \n",
      "3   1837 - 1839  0.666667  0.666667  0.666667  0.666667  0.000000  0.000000   \n",
      "4   1840 - 1848  0.181818  0.000000  0.363636  0.090909  0.000000  0.000000   \n",
      "5   1850 - 1859  0.336538  0.096154  0.346154  0.019231  0.000000  0.000000   \n",
      "6   1861 - 1869  0.629630  0.111111  0.537037  0.037037  0.018519  0.000000   \n",
      "7   1870 - 1879  0.505263  0.052632  0.547368  0.052632  0.010526  0.000000   \n",
      "8   1880 - 1889  0.598837  0.075581  0.639535  0.110465  0.029070  0.000000   \n",
      "9   1890 - 1899  0.707904  0.140893  0.835052  0.312715  0.051546  0.000000   \n",
      "10  1900 - 1909  0.792453  0.209434  0.905660  0.373585  0.079245  0.001887   \n",
      "11  1910 - 1919  0.791908  0.183044  0.857418  0.499037  0.063584  0.001927   \n",
      "12  1920 - 1929  0.624413  0.133020  0.622848  0.342723  0.056338  0.000000   \n",
      "13  1930 - 1939  0.698370  0.078804  0.673913  0.388587  0.043478  0.002717   \n",
      "14  1940 - 1949  0.875000  0.250000  0.937500  0.375000  0.125000  0.000000   \n",
      "15  1978 - 1978  0.000000  0.000000  1.000000  0.000000  0.000000  0.000000   \n",
      "16  2000 - 2000  1.000000  0.000000  1.000000  0.500000  0.000000  0.000000   \n",
      "\n",
      "        שלהם      שלהן  Aggregate  \n",
      "0   0.000000  0.000000   1.400000  \n",
      "1   0.500000  0.000000   4.000000  \n",
      "2   0.000000  0.000000   1.000000  \n",
      "3   0.666667  0.000000   3.333333  \n",
      "4   0.090909  0.000000   0.727273  \n",
      "5   0.019231  0.000000   0.817308  \n",
      "6   0.018519  0.000000   1.351852  \n",
      "7   0.073684  0.010526   1.252632  \n",
      "8   0.098837  0.011628   1.563953  \n",
      "9   0.202749  0.024055   2.274914  \n",
      "10  0.332075  0.049057   2.743396  \n",
      "11  0.383430  0.050096   2.830443  \n",
      "12  0.237872  0.037559   2.054773  \n",
      "13  0.269022  0.051630   2.206522  \n",
      "14  0.437500  0.062500   3.062500  \n",
      "15  0.000000  0.000000   1.000000  \n",
      "16  0.000000  0.000000   2.500000  \n"
     ]
    }
   ],
   "source": [
    "possHeaders = ['Range'] + possParts + ['Aggregate']\n",
    "\n",
    "possFreqs_df = pd.DataFrame(possFreqs, columns=possHeaders)\n",
    "print(possFreqs_df)"
   ]
  },
  {
   "cell_type": "code",
   "execution_count": 56,
   "metadata": {},
   "outputs": [
    {
     "data": {
      "text/plain": [
       "<AxesSubplot:xlabel='Range'>"
      ]
     },
     "execution_count": 56,
     "metadata": {},
     "output_type": "execute_result"
    },
    {
     "data": {
      "image/png": "[encoded data removed]",
      "text/plain": [
       "<Figure size 432x288 with 1 Axes>"
      ]
     },
     "metadata": {
      "needs_background": "light"
     },
     "output_type": "display_data"
    }
   ],
   "source": [
    "possFreqs_df.plot(x='Range', y='Aggregate')"
   ]
  },
  {
   "cell_type": "code",
   "execution_count": null,
   "metadata": {},
   "outputs": [],
   "source": []
  }
 ],
 "metadata": {
  "kernelspec": {
   "display_name": "Python 3",
   "language": "python",
   "name": "python3"
  },
  "language_info": {
   "codemirror_mode": {
    "name": "ipython",
    "version": 3
   },
   "file_extension": ".py",
   "mimetype": "text/x-python",
   "name": "python",
   "nbconvert_exporter": "python",
   "pygments_lexer": "ipython3",
   "version": "3.8.5"
  }
 },
 "nbformat": 4,
 "nbformat_minor": 4
}
