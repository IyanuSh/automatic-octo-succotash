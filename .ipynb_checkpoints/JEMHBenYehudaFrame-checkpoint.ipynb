{
 "cells": [
  {
   "cell_type": "markdown",
   "metadata": {},
   "source": []
  },
  {
   "cell_type": "code",
   "execution_count": 3,
   "metadata": {},
   "outputs": [],
   "source": [
    "%run JEMHBenYehudaDoc.ipynb\n",
    "\n",
    "class JEMHBenYehudaFrame:\n",
    "\n",
    "    def __init__(self, fileDir):\n",
    "        if type(fileDir) == str:\n",
    "            self.docs = []\n",
    "                        \n",
    "            for root, dirs, files in os.walk(fileDir, topdown=False):\n",
    "                for name in files:\n",
    "                    if name.endswith(\".xml\"):\n",
    "                        self.docs.append(JEMHBenYehudaDoc(name, root))\n",
    "\n",
    "        elif type(fileDir) == list:\n",
    "            self.docs = [file for file in fileDir]\n",
    "\n",
    "        else:\n",
    "            self.docs = []\n",
    "\n",
    "    def __str__(self):\n",
    "        header = ['File Name', 'Year', 'Place']\n",
    "        return tabulate([doc.getMetadata() for doc in self.docs], header)\n",
    "\n",
    "    def __iter__(self):\n",
    "        return [doc for doc in self.docs]\n",
    "\n",
    "    def getDocs(self):\n",
    "        return self.docs\n",
    "\n",
    "    def filterYear(self, year):\n",
    "        return JEMHBenYehudaFrame([doc for doc in self.docs if doc.getYear() == year])\n",
    "\n",
    "    def filterBetweenYears(self, startYear, endYear):\n",
    "        return JEMHBenYehudaFrame([doc for doc in self.docs if doc.getYear() in range(startYear, endYear)])\n",
    "\n",
    "    def filterBeforeYear(self, endYear):\n",
    "        return JEMHBenYehudaFrame([doc for doc in self.docs if doc.getYear() < endYear])\n",
    "\n",
    "    def filterAfterYear(self, startYear):\n",
    "        return JEMHBenYehudaFrame([doc for doc in self.docs if doc.getYear() >= startYear])\n",
    "    \n",
    "    def earliestDoc(self):\n",
    "        doc_dates = [(doc, doc.getYear()) for doc in self.docs]\n",
    "        doc_dates.sort(key=lambda x:x[1])\n",
    "        \n",
    "        return doc_dates[0][0]\n",
    "    \n",
    "    def latestDoc(self):\n",
    "        doc_dates = [(doc, doc.getYear()) for doc in self.docs]\n",
    "        doc_dates.sort(key=lambda x:x[1])\n",
    "        return doc_dates[-1][0]\n",
    "\n"
   ]
  }
 ],
 "metadata": {
  "kernelspec": {
   "display_name": "Python 3",
   "language": "python",
   "name": "python3"
  },
  "language_info": {
   "codemirror_mode": {
    "name": "ipython",
    "version": 3
   },
   "file_extension": ".py",
   "mimetype": "text/x-python",
   "name": "python",
   "nbconvert_exporter": "python",
   "pygments_lexer": "ipython3",
   "version": "3.8.5"
  }
 },
 "nbformat": 4,
 "nbformat_minor": 4
}
