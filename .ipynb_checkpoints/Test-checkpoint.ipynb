{
 "cells": [
  {
   "cell_type": "code",
   "execution_count": 13,
   "metadata": {},
   "outputs": [],
   "source": [
    "%run JEMHEphemeraDoc.ipynb\n",
    "%run JEMHEphemeraFrame.ipynb\n",
    "%run JEMHBenYehudaDoc.ipynb\n",
    "%run JEMHBenYehudaFrame.ipynb"
   ]
  },
  {
   "cell_type": "code",
   "execution_count": 14,
   "metadata": {},
   "outputs": [],
   "source": [
    "TESTDIR_EPHEMERA = 'JEMHCorpus/ephemera/street_ads/TEI'\n",
    "\n",
    "testCorpus_Ephemera = JEMHEphemeraFrame(TESTDIR_EPHEMERA)"
   ]
  },
  {
   "cell_type": "code",
   "execution_count": 11,
   "metadata": {},
   "outputs": [],
   "source": [
    "TESTDIR_BENYEHUDA = 'JEMHCorpus/projectbenyehuda/TEI/by-decades-accurate'\n",
    "\n",
    "testCorpus_BenYehuda = JEMHBenYehudaFrame(TESTDIR_BENYEHUDA).filterBetweenYears(1700, 1799)"
   ]
  },
  {
   "cell_type": "code",
   "execution_count": 12,
   "metadata": {},
   "outputs": [
    {
     "name": "stdout",
     "output_type": "stream",
     "text": [
      "File Name                                      Year\n",
      "-------------------------------------------  ------\n",
      "BY - משה חיים לוצאטו - mesilat_yesharim.xml    1740\n",
      "BY - משה חיים לוצאטו - tehila.xml              1743\n",
      "BY - משה חיים לוצאטו - 009.xml                 1727\n",
      "BY - משה חיים לוצאטו - maase_shimshon.xml      1724\n",
      "BY - משה חיים לוצאטו - migdal_oz.xml           1727\n",
      "BY - משה חיים לוצאטו - 001.xml                 1723\n",
      "BY - משה חיים לוצאטו - 002.xml                 1723\n",
      "BY - משה חיים לוצאטו - 003.xml                 1724\n",
      "BY - משה חיים לוצאטו - 006.xml                 1725\n",
      "BY - משה חיים לוצאטו - 004.xml                 1724\n",
      "BY - משה חיים לוצאטו - 010.xml                 1728\n"
     ]
    }
   ],
   "source": [
    "print(testCorpus_BenYehuda)"
   ]
  },
  {
   "cell_type": "code",
   "execution_count": null,
   "metadata": {},
   "outputs": [],
   "source": []
  }
 ],
 "metadata": {
  "kernelspec": {
   "display_name": "Python 3",
   "language": "python",
   "name": "python3"
  },
  "language_info": {
   "codemirror_mode": {
    "name": "ipython",
    "version": 3
   },
   "file_extension": ".py",
   "mimetype": "text/x-python",
   "name": "python",
   "nbconvert_exporter": "python",
   "pygments_lexer": "ipython3",
   "version": "3.8.5"
  }
 },
 "nbformat": 4,
 "nbformat_minor": 4
}
